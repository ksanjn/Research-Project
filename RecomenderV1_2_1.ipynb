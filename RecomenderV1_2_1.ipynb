{
  "nbformat": 4,
  "nbformat_minor": 0,
  "metadata": {
    "colab": {
      "provenance": []
    },
    "kernelspec": {
      "name": "python3",
      "display_name": "Python 3"
    },
    "language_info": {
      "name": "python"
    }
  },
  "cells": [
    {
      "cell_type": "markdown",
      "source": [
        "**1. Setup and Dataset Loading**\n"
      ],
      "metadata": {
        "id": "jrIPINBRv1Lz"
      }
    },
    {
      "cell_type": "code",
      "source": [
        "# Step 1: Install Required Libraries\n",
        "!pip install -q scikit-learn matplotlib seaborn\n",
        "\n",
        "# Step 2: Import Required Libraries\n",
        "import pandas as pd\n",
        "import numpy as np\n",
        "from sklearn.preprocessing import OneHotEncoder\n",
        "from sklearn.feature_extraction.text import TfidfVectorizer\n",
        "from sklearn.metrics.pairwise import cosine_similarity\n",
        "from sklearn.model_selection import train_test_split\n",
        "from sklearn.ensemble import RandomForestClassifier\n",
        "from sklearn.metrics import classification_report\n",
        "import matplotlib.pyplot as plt\n",
        "import seaborn as sns\n",
        "import re\n",
        "from google.colab import files\n",
        "\n",
        "# Step 3: Upload Dataset\n",
        "print(\"Please upload your dataset (CSV format).\")\n",
        "uploaded = files.upload()\n",
        "\n",
        "# Load the dataset\n",
        "for filename in uploaded.keys():\n",
        "    dataset = pd.read_csv(filename)\n",
        "\n",
        "print(\"Dataset loaded successfully.\")\n",
        "print(dataset.head())  # Display the first few rows for verification\n"
      ],
      "metadata": {
        "colab": {
          "base_uri": "https://localhost:8080/",
          "height": 698
        },
        "id": "9u6ydN7tv5iX",
        "outputId": "5c008ee0-660d-4fa2-e50f-268c667105ac"
      },
      "execution_count": 4,
      "outputs": [
        {
          "output_type": "stream",
          "name": "stdout",
          "text": [
            "Please upload your dataset (CSV format).\n"
          ]
        },
        {
          "output_type": "display_data",
          "data": {
            "text/plain": [
              "<IPython.core.display.HTML object>"
            ],
            "text/html": [
              "\n",
              "     <input type=\"file\" id=\"files-f7b2a8ee-0c75-466c-aff7-d53740bbb7a7\" name=\"files[]\" multiple disabled\n",
              "        style=\"border:none\" />\n",
              "     <output id=\"result-f7b2a8ee-0c75-466c-aff7-d53740bbb7a7\">\n",
              "      Upload widget is only available when the cell has been executed in the\n",
              "      current browser session. Please rerun this cell to enable.\n",
              "      </output>\n",
              "      <script>// Copyright 2017 Google LLC\n",
              "//\n",
              "// Licensed under the Apache License, Version 2.0 (the \"License\");\n",
              "// you may not use this file except in compliance with the License.\n",
              "// You may obtain a copy of the License at\n",
              "//\n",
              "//      http://www.apache.org/licenses/LICENSE-2.0\n",
              "//\n",
              "// Unless required by applicable law or agreed to in writing, software\n",
              "// distributed under the License is distributed on an \"AS IS\" BASIS,\n",
              "// WITHOUT WARRANTIES OR CONDITIONS OF ANY KIND, either express or implied.\n",
              "// See the License for the specific language governing permissions and\n",
              "// limitations under the License.\n",
              "\n",
              "/**\n",
              " * @fileoverview Helpers for google.colab Python module.\n",
              " */\n",
              "(function(scope) {\n",
              "function span(text, styleAttributes = {}) {\n",
              "  const element = document.createElement('span');\n",
              "  element.textContent = text;\n",
              "  for (const key of Object.keys(styleAttributes)) {\n",
              "    element.style[key] = styleAttributes[key];\n",
              "  }\n",
              "  return element;\n",
              "}\n",
              "\n",
              "// Max number of bytes which will be uploaded at a time.\n",
              "const MAX_PAYLOAD_SIZE = 100 * 1024;\n",
              "\n",
              "function _uploadFiles(inputId, outputId) {\n",
              "  const steps = uploadFilesStep(inputId, outputId);\n",
              "  const outputElement = document.getElementById(outputId);\n",
              "  // Cache steps on the outputElement to make it available for the next call\n",
              "  // to uploadFilesContinue from Python.\n",
              "  outputElement.steps = steps;\n",
              "\n",
              "  return _uploadFilesContinue(outputId);\n",
              "}\n",
              "\n",
              "// This is roughly an async generator (not supported in the browser yet),\n",
              "// where there are multiple asynchronous steps and the Python side is going\n",
              "// to poll for completion of each step.\n",
              "// This uses a Promise to block the python side on completion of each step,\n",
              "// then passes the result of the previous step as the input to the next step.\n",
              "function _uploadFilesContinue(outputId) {\n",
              "  const outputElement = document.getElementById(outputId);\n",
              "  const steps = outputElement.steps;\n",
              "\n",
              "  const next = steps.next(outputElement.lastPromiseValue);\n",
              "  return Promise.resolve(next.value.promise).then((value) => {\n",
              "    // Cache the last promise value to make it available to the next\n",
              "    // step of the generator.\n",
              "    outputElement.lastPromiseValue = value;\n",
              "    return next.value.response;\n",
              "  });\n",
              "}\n",
              "\n",
              "/**\n",
              " * Generator function which is called between each async step of the upload\n",
              " * process.\n",
              " * @param {string} inputId Element ID of the input file picker element.\n",
              " * @param {string} outputId Element ID of the output display.\n",
              " * @return {!Iterable<!Object>} Iterable of next steps.\n",
              " */\n",
              "function* uploadFilesStep(inputId, outputId) {\n",
              "  const inputElement = document.getElementById(inputId);\n",
              "  inputElement.disabled = false;\n",
              "\n",
              "  const outputElement = document.getElementById(outputId);\n",
              "  outputElement.innerHTML = '';\n",
              "\n",
              "  const pickedPromise = new Promise((resolve) => {\n",
              "    inputElement.addEventListener('change', (e) => {\n",
              "      resolve(e.target.files);\n",
              "    });\n",
              "  });\n",
              "\n",
              "  const cancel = document.createElement('button');\n",
              "  inputElement.parentElement.appendChild(cancel);\n",
              "  cancel.textContent = 'Cancel upload';\n",
              "  const cancelPromise = new Promise((resolve) => {\n",
              "    cancel.onclick = () => {\n",
              "      resolve(null);\n",
              "    };\n",
              "  });\n",
              "\n",
              "  // Wait for the user to pick the files.\n",
              "  const files = yield {\n",
              "    promise: Promise.race([pickedPromise, cancelPromise]),\n",
              "    response: {\n",
              "      action: 'starting',\n",
              "    }\n",
              "  };\n",
              "\n",
              "  cancel.remove();\n",
              "\n",
              "  // Disable the input element since further picks are not allowed.\n",
              "  inputElement.disabled = true;\n",
              "\n",
              "  if (!files) {\n",
              "    return {\n",
              "      response: {\n",
              "        action: 'complete',\n",
              "      }\n",
              "    };\n",
              "  }\n",
              "\n",
              "  for (const file of files) {\n",
              "    const li = document.createElement('li');\n",
              "    li.append(span(file.name, {fontWeight: 'bold'}));\n",
              "    li.append(span(\n",
              "        `(${file.type || 'n/a'}) - ${file.size} bytes, ` +\n",
              "        `last modified: ${\n",
              "            file.lastModifiedDate ? file.lastModifiedDate.toLocaleDateString() :\n",
              "                                    'n/a'} - `));\n",
              "    const percent = span('0% done');\n",
              "    li.appendChild(percent);\n",
              "\n",
              "    outputElement.appendChild(li);\n",
              "\n",
              "    const fileDataPromise = new Promise((resolve) => {\n",
              "      const reader = new FileReader();\n",
              "      reader.onload = (e) => {\n",
              "        resolve(e.target.result);\n",
              "      };\n",
              "      reader.readAsArrayBuffer(file);\n",
              "    });\n",
              "    // Wait for the data to be ready.\n",
              "    let fileData = yield {\n",
              "      promise: fileDataPromise,\n",
              "      response: {\n",
              "        action: 'continue',\n",
              "      }\n",
              "    };\n",
              "\n",
              "    // Use a chunked sending to avoid message size limits. See b/62115660.\n",
              "    let position = 0;\n",
              "    do {\n",
              "      const length = Math.min(fileData.byteLength - position, MAX_PAYLOAD_SIZE);\n",
              "      const chunk = new Uint8Array(fileData, position, length);\n",
              "      position += length;\n",
              "\n",
              "      const base64 = btoa(String.fromCharCode.apply(null, chunk));\n",
              "      yield {\n",
              "        response: {\n",
              "          action: 'append',\n",
              "          file: file.name,\n",
              "          data: base64,\n",
              "        },\n",
              "      };\n",
              "\n",
              "      let percentDone = fileData.byteLength === 0 ?\n",
              "          100 :\n",
              "          Math.round((position / fileData.byteLength) * 100);\n",
              "      percent.textContent = `${percentDone}% done`;\n",
              "\n",
              "    } while (position < fileData.byteLength);\n",
              "  }\n",
              "\n",
              "  // All done.\n",
              "  yield {\n",
              "    response: {\n",
              "      action: 'complete',\n",
              "    }\n",
              "  };\n",
              "}\n",
              "\n",
              "scope.google = scope.google || {};\n",
              "scope.google.colab = scope.google.colab || {};\n",
              "scope.google.colab._files = {\n",
              "  _uploadFiles,\n",
              "  _uploadFilesContinue,\n",
              "};\n",
              "})(self);\n",
              "</script> "
            ]
          },
          "metadata": {}
        },
        {
          "output_type": "stream",
          "name": "stdout",
          "text": [
            "Saving labeled_dataset.csv to labeled_dataset.csv\n",
            "Dataset loaded successfully.\n",
            "   id                              task                   job_role complexity  \\\n",
            "0   1               Optimize algorithms  Machine Learning Engineer        Low   \n",
            "1   2             Conduct user research          Backend Developer       High   \n",
            "2   3        Train and fine-tune models          Software Engineer        Low   \n",
            "3   4           Automate infrastructure            Product Manager     Medium   \n",
            "4   5  Design wireframes and prototypes            Product Manager     Medium   \n",
            "\n",
            "    task_type creativity human_interaction time_taken frequency   skill_level  \\\n",
            "0   Technical   Moderate              High    <1 hour   Monthly      Beginner   \n",
            "1  Managerial       High               NaN   Full-day   Monthly      Advanced   \n",
            "2    Creative       High          Moderate    <1 hour     Daily      Beginner   \n",
            "3   Technical       High          Moderate  1-3 hours    Weekly  Intermediate   \n",
            "4  Managerial   Moderate               NaN  1-3 hours     Daily      Advanced   \n",
            "\n",
            "                            Associated_Skills                    Tools  \\\n",
            "0     TensorFlow, Node.js, Python, SQL, React                  VS Code   \n",
            "1             Git, TensorFlow, Node.js, React     MongoDB, Jira, Slack   \n",
            "2  SQL, TensorFlow, Agile, Docker, JavaScript              Jira, MySQL   \n",
            "3                                 Python, SQL  Tableau, MySQL, MongoDB   \n",
            "4         Docker, JavaScript, TensorFlow, SQL         Tableau, MongoDB   \n",
            "\n",
            "                Technologies  \\\n",
            "0            Cloud Computing   \n",
            "1            Web Development   \n",
            "2  Cloud Computing, Big Data   \n",
            "3            Cloud Computing   \n",
            "4        AI, Web Development   \n",
            "\n",
            "                                     Job_Description Automation_Risk  \n",
            "0  As a Machine Learning Engineer, your responsib...     Medium Risk  \n",
            "1  As a Backend Developer, your responsibilities ...        Low Risk  \n",
            "2  As a Software Engineer, your responsibilities ...        Low Risk  \n",
            "3  As a Product Manager, your responsibilities in...     Medium Risk  \n",
            "4  As a Product Manager, your responsibilities in...     Medium Risk  \n"
          ]
        }
      ]
    },
    {
      "cell_type": "markdown",
      "source": [
        "**2. Data Preprocessing**"
      ],
      "metadata": {
        "id": "af-0pUcDwENu"
      }
    },
    {
      "cell_type": "code",
      "source": [
        "# Step 4: Break Down Job Descriptions into Smaller Tasks\n",
        "def preprocess_description(description):\n",
        "    sentences = re.split(r'[.\\n;]', str(description))\n",
        "    cleaned_sentences = [re.sub(r\"[^a-zA-Z\\s]\", \"\", sentence).strip().lower() for sentence in sentences if sentence.strip()]\n",
        "    return cleaned_sentences\n",
        "\n",
        "dataset['Tasks'] = dataset['Job_Description'].fillna('').apply(preprocess_description)\n",
        "\n",
        "# Step 5: Map Tasks to Skills Using a Basic Skill Taxonomy\n",
        "skill_taxonomy = {\n",
        "    'problem-solving': ['debug', 'troubleshoot', 'analyze', 'optimize'],\n",
        "    'teamwork': ['collaborate', 'coordinate', 'work with'],\n",
        "    'technical skills': ['develop', 'implement', 'design', 'code'],\n",
        "    'communication': ['present', 'communicate', 'explain']\n",
        "}\n",
        "\n",
        "def map_to_skills(tasks):\n",
        "    task_to_skill = []\n",
        "    for task in tasks:\n",
        "        task_skills = []\n",
        "        for skill, keywords in skill_taxonomy.items():\n",
        "            if any(keyword in task for keyword in keywords):\n",
        "                task_skills.append(skill)\n",
        "        task_to_skill.append(\", \".join(task_skills) if task_skills else \"other\")\n",
        "    return task_to_skill\n",
        "\n",
        "dataset['Mapped_Skills'] = dataset['Tasks'].apply(map_to_skills)\n",
        "\n",
        "# Step 6: Add a Feature for \"Creativity_Required\"\n",
        "def requires_creativity(tasks):\n",
        "    creative_keywords = ['design', 'create', 'innovate']\n",
        "    return any(any(keyword in task for keyword in creative_keywords) for task in tasks)\n",
        "\n",
        "dataset['Creativity_Required'] = dataset['Tasks'].apply(requires_creativity)\n",
        "\n",
        "print(\"Data preprocessing completed.\")\n",
        "\n",
        "# Save the Processed Dataset After Preprocessing\n",
        "dataset.to_csv(\"Processed_Dataset.csv\", index=False)\n",
        "print(\"Processed dataset saved as 'Processed_Dataset.csv'.\")\n",
        "\n",
        "# Download the file directly\n",
        "from google.colab import files\n",
        "files.download(\"Processed_Dataset.csv\")\n",
        "\n"
      ],
      "metadata": {
        "colab": {
          "base_uri": "https://localhost:8080/",
          "height": 52
        },
        "id": "cUXLmJEwwIBQ",
        "outputId": "3a7fdb93-cb55-4e1d-8417-30611e5677c3"
      },
      "execution_count": 5,
      "outputs": [
        {
          "output_type": "stream",
          "name": "stdout",
          "text": [
            "Data preprocessing completed.\n",
            "Processed dataset saved as 'Processed_Dataset.csv'.\n"
          ]
        },
        {
          "output_type": "display_data",
          "data": {
            "text/plain": [
              "<IPython.core.display.Javascript object>"
            ],
            "application/javascript": [
              "\n",
              "    async function download(id, filename, size) {\n",
              "      if (!google.colab.kernel.accessAllowed) {\n",
              "        return;\n",
              "      }\n",
              "      const div = document.createElement('div');\n",
              "      const label = document.createElement('label');\n",
              "      label.textContent = `Downloading \"${filename}\": `;\n",
              "      div.appendChild(label);\n",
              "      const progress = document.createElement('progress');\n",
              "      progress.max = size;\n",
              "      div.appendChild(progress);\n",
              "      document.body.appendChild(div);\n",
              "\n",
              "      const buffers = [];\n",
              "      let downloaded = 0;\n",
              "\n",
              "      const channel = await google.colab.kernel.comms.open(id);\n",
              "      // Send a message to notify the kernel that we're ready.\n",
              "      channel.send({})\n",
              "\n",
              "      for await (const message of channel.messages) {\n",
              "        // Send a message to notify the kernel that we're ready.\n",
              "        channel.send({})\n",
              "        if (message.buffers) {\n",
              "          for (const buffer of message.buffers) {\n",
              "            buffers.push(buffer);\n",
              "            downloaded += buffer.byteLength;\n",
              "            progress.value = downloaded;\n",
              "          }\n",
              "        }\n",
              "      }\n",
              "      const blob = new Blob(buffers, {type: 'application/binary'});\n",
              "      const a = document.createElement('a');\n",
              "      a.href = window.URL.createObjectURL(blob);\n",
              "      a.download = filename;\n",
              "      div.appendChild(a);\n",
              "      a.click();\n",
              "      div.remove();\n",
              "    }\n",
              "  "
            ]
          },
          "metadata": {}
        },
        {
          "output_type": "display_data",
          "data": {
            "text/plain": [
              "<IPython.core.display.Javascript object>"
            ],
            "application/javascript": [
              "download(\"download_40119b6e-0560-4bf7-94f2-bffaeadd07ae\", \"Processed_Dataset.csv\", 728983)"
            ]
          },
          "metadata": {}
        }
      ]
    },
    {
      "cell_type": "markdown",
      "source": [
        "**3. Training Section**"
      ],
      "metadata": {
        "id": "xL4Gkyk4wMeH"
      }
    },
    {
      "cell_type": "code",
      "source": [
        "# Step 7: Prepare Data for Training\n",
        "# Encode Automation Risk Levels\n",
        "label_mapping = {\"Low Risk\": 0, \"Medium Risk\": 1, \"High Risk\": 2}\n",
        "dataset['Risk_Label'] = dataset['Automation_Risk'].map(label_mapping)\n",
        "\n",
        "# Encode Categorical Features\n",
        "categorical_columns = ['complexity', 'task_type', 'creativity', 'human_interaction']\n",
        "encoder = OneHotEncoder(sparse_output=False)\n",
        "categorical_encoded = encoder.fit_transform(dataset[categorical_columns].fillna('Unknown'))\n",
        "\n",
        "# Extract Text Features Using TF-IDF\n",
        "vectorizer = TfidfVectorizer(max_features=500)\n",
        "text_features = vectorizer.fit_transform(dataset['Job_Description'].fillna(''))\n",
        "\n",
        "# Combine Features\n",
        "X = np.hstack([categorical_encoded, text_features.toarray()])\n",
        "y = dataset['Risk_Label']\n",
        "\n",
        "# Split Data into Training and Testing Sets\n",
        "X_train, X_test, y_train, y_test = train_test_split(X, y, test_size=0.2, random_state=42)\n",
        "\n",
        "# Train a Random Forest Classifier\n",
        "rf_model = RandomForestClassifier(random_state=42)\n",
        "rf_model.fit(X_train, y_train)\n",
        "\n",
        "print(\"Training completed.\")\n"
      ],
      "metadata": {
        "colab": {
          "base_uri": "https://localhost:8080/"
        },
        "id": "hAc_tKJFwPjJ",
        "outputId": "73d5cfed-dad7-4f01-80ee-5194e9d24bbc"
      },
      "execution_count": 6,
      "outputs": [
        {
          "output_type": "stream",
          "name": "stdout",
          "text": [
            "Training completed.\n"
          ]
        }
      ]
    },
    {
      "cell_type": "markdown",
      "source": [
        "**4. Testing Section**"
      ],
      "metadata": {
        "id": "WIgzezs1wV6V"
      }
    },
    {
      "cell_type": "code",
      "source": [
        "# Evaluate the Model\n",
        "#y_pred = rf_model.predict(X_test)\n",
        "#print(\"Classification Report:\\n\", classification_report(y_test, y_pred))\n",
        "\n",
        "# Get predictions and classification report\n",
        "y_pred = rf_model.predict(X_test)\n",
        "report = classification_report(y_test, y_pred, output_dict=True)\n",
        "print(\"Classification Report:\\n\", classification_report(y_test, y_pred))\n",
        "\n",
        "# Convert the classification report to a DataFrame\n",
        "report_df = pd.DataFrame(report).transpose()\n",
        "\n",
        "# Exclude the support column for heatmap\n",
        "metrics_df = report_df.drop(columns=\"support\", errors='ignore').iloc[:-1]\n",
        "\n",
        "# Plot Heatmap\n",
        "plt.figure(figsize=(12, 6))\n",
        "sns.heatmap(metrics_df, annot=True, cmap=\"coolwarm\", fmt=\".2f\", linewidths=0.5)\n",
        "plt.title(\"Classification Report Heatmap\")\n",
        "plt.show()\n",
        "\n",
        "# Plot Bar Charts for Precision, Recall, and F1-Score\n",
        "for metric in [\"precision\", \"recall\", \"f1-score\"]:\n",
        "    plt.figure(figsize=(10, 5))\n",
        "    sns.barplot(x=metrics_df.index, y=metrics_df[metric])\n",
        "    plt.title(f\"{metric.capitalize()} per Class\")\n",
        "    plt.ylabel(metric.capitalize())\n",
        "    plt.xlabel(\"Class\")\n",
        "    plt.xticks(rotation=45)\n",
        "    plt.show()\n",
        "\n",
        "# Function to Get Recommendations Based on Manual Input\n",
        "def get_recommendations_from_input(job_description, top_n=5):\n",
        "    # Preprocess the input job description\n",
        "    processed_input = preprocess_description(job_description)\n",
        "    input_text_vectorized = vectorizer.transform([\" \".join(processed_input)]).toarray()\n",
        "    # Create a dummy feature vector for the input\n",
        "    dummy_categorical = np.zeros((1, categorical_encoded.shape[1]))  # Assuming no categorical data for input\n",
        "    input_features = np.hstack([dummy_categorical, input_text_vectorized])\n",
        "\n",
        "    # Compute similarity\n",
        "    similarity_scores = cosine_similarity(input_features, X)\n",
        "    similar_indices = similarity_scores.argsort()[0, -top_n:][::-1]  # Get top N most similar jobs\n",
        "    recommendations = dataset.iloc[similar_indices]\n",
        "    return recommendations[['job_role', 'Automation_Risk', 'Mapped_Skills']]\n",
        "\n",
        "# Example: Manually Enter a Job Description\n",
        "job_description = input(\"Enter a job description or task: \")\n",
        "recommendations = get_recommendations_from_input(job_description)\n",
        "print(\"\\nTop Recommendations for the Entered Job Description:\")\n",
        "print(recommendations)\n"
      ],
      "metadata": {
        "colab": {
          "base_uri": "https://localhost:8080/",
          "height": 1000
        },
        "id": "cF51s5S4wYqD",
        "outputId": "499fa3d9-604a-4787-bc82-331b6c1125b9"
      },
      "execution_count": 7,
      "outputs": [
        {
          "output_type": "stream",
          "name": "stdout",
          "text": [
            "Classification Report:\n",
            "               precision    recall  f1-score   support\n",
            "\n",
            "           0       0.62      0.19      0.29        43\n",
            "           1       0.81      0.97      0.88       157\n",
            "\n",
            "    accuracy                           0.80       200\n",
            "   macro avg       0.71      0.58      0.58       200\n",
            "weighted avg       0.77      0.80      0.76       200\n",
            "\n"
          ]
        },
        {
          "output_type": "display_data",
          "data": {
            "text/plain": [
              "<Figure size 1200x600 with 2 Axes>"
            ],
            "image/png": "[encoded data removed]"
          },
          "metadata": {}
        },
        {
          "output_type": "display_data",
          "data": {
            "text/plain": [
              "<Figure size 1000x500 with 1 Axes>"
            ],
            "image/png": "[encoded data removed]"
          },
          "metadata": {}
        },
        {
          "output_type": "display_data",
          "data": {
            "text/plain": [
              "<Figure size 1000x500 with 1 Axes>"
            ],
            "image/png": "[encoded data removed]"
          },
          "metadata": {}
        },
        {
          "output_type": "display_data",
          "data": {
            "text/plain": [
              "<Figure size 1000x500 with 1 Axes>"
            ],
            "image/png": "[encoded data removed]"
          },
          "metadata": {}
        },
        {
          "output_type": "stream",
          "name": "stdout",
          "text": [
            "Enter a job description or task: Manage database operations\n",
            "\n",
            "Top Recommendations for the Entered Job Description:\n",
            "              job_role Automation_Risk                        Mapped_Skills\n",
            "197        QA Engineer     Medium Risk             [other, teamwork, other]\n",
            "668  Software Engineer     Medium Risk      [other, other, teamwork, other]\n",
            "903    DevOps Engineer     Medium Risk             [other, teamwork, other]\n",
            "320  Software Engineer     Medium Risk  [other, teamwork, technical skills]\n",
            "100  Software Engineer     Medium Risk             [other, teamwork, other]\n"
          ]
        }
      ]
    },
    {
      "cell_type": "markdown",
      "source": [
        "**5 Save the Model**"
      ],
      "metadata": {
        "id": "N9MIFg8jTa5D"
      }
    },
    {
      "cell_type": "code",
      "source": [
        "import pickle\n",
        "\n",
        "# Save the trained Random Forest model and vectorizer\n",
        "with open(\"model.pkl\", \"wb\") as f:\n",
        "    pickle.dump((rf_model, vectorizer, categorical_encoded), f)\n",
        "\n",
        "print(\"Model and vectorizer saved as 'model.pkl'.\")\n",
        "\n",
        "# Download the model file\n",
        "from google.colab import files\n",
        "files.download(\"model.pkl\")\n",
        "\n"
      ],
      "metadata": {
        "colab": {
          "base_uri": "https://localhost:8080/",
          "height": 52
        },
        "id": "h69lS2WVTe9w",
        "outputId": "1c148e05-0ea8-4a64-c6d6-0e0466628ac4"
      },
      "execution_count": null,
      "outputs": [
        {
          "output_type": "stream",
          "name": "stdout",
          "text": [
            "Model and vectorizer saved as 'model.pkl'.\n"
          ]
        },
        {
          "output_type": "display_data",
          "data": {
            "text/plain": [
              "<IPython.core.display.Javascript object>"
            ],
            "application/javascript": [
              "\n",
              "    async function download(id, filename, size) {\n",
              "      if (!google.colab.kernel.accessAllowed) {\n",
              "        return;\n",
              "      }\n",
              "      const div = document.createElement('div');\n",
              "      const label = document.createElement('label');\n",
              "      label.textContent = `Downloading \"${filename}\": `;\n",
              "      div.appendChild(label);\n",
              "      const progress = document.createElement('progress');\n",
              "      progress.max = size;\n",
              "      div.appendChild(progress);\n",
              "      document.body.appendChild(div);\n",
              "\n",
              "      const buffers = [];\n",
              "      let downloaded = 0;\n",
              "\n",
              "      const channel = await google.colab.kernel.comms.open(id);\n",
              "      // Send a message to notify the kernel that we're ready.\n",
              "      channel.send({})\n",
              "\n",
              "      for await (const message of channel.messages) {\n",
              "        // Send a message to notify the kernel that we're ready.\n",
              "        channel.send({})\n",
              "        if (message.buffers) {\n",
              "          for (const buffer of message.buffers) {\n",
              "            buffers.push(buffer);\n",
              "            downloaded += buffer.byteLength;\n",
              "            progress.value = downloaded;\n",
              "          }\n",
              "        }\n",
              "      }\n",
              "      const blob = new Blob(buffers, {type: 'application/binary'});\n",
              "      const a = document.createElement('a');\n",
              "      a.href = window.URL.createObjectURL(blob);\n",
              "      a.download = filename;\n",
              "      div.appendChild(a);\n",
              "      a.click();\n",
              "      div.remove();\n",
              "    }\n",
              "  "
            ]
          },
          "metadata": {}
        },
        {
          "output_type": "display_data",
          "data": {
            "text/plain": [
              "<IPython.core.display.Javascript object>"
            ],
            "application/javascript": [
              "download(\"download_53080866-a6ff-4700-907b-4f4756802965\", \"model.pkl\", 1900885)"
            ]
          },
          "metadata": {}
        }
      ]
    }
  ]
}